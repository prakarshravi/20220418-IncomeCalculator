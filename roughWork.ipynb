{
 "cells": [
  {
   "cell_type": "code",
   "execution_count": 4,
   "metadata": {},
   "outputs": [],
   "source": [
    "aVariable = ''\n",
    "checkList = ['Y', 'N']"
   ]
  },
  {
   "cell_type": "code",
   "execution_count": 2,
   "metadata": {},
   "outputs": [],
   "source": [
    "aVariable = input()"
   ]
  },
  {
   "cell_type": "code",
   "execution_count": 3,
   "metadata": {},
   "outputs": [
    {
     "data": {
      "text/plain": [
       "'hello'"
      ]
     },
     "execution_count": 3,
     "metadata": {},
     "output_type": "execute_result"
    }
   ],
   "source": [
    "aVariable"
   ]
  },
  {
   "cell_type": "code",
   "execution_count": 18,
   "metadata": {},
   "outputs": [],
   "source": [
    "def somfunc():\n",
    "    while True:\n",
    "        aVariable = input(\"Are you ready to rumble? [Y/N]: \").upper()\n",
    "        \n",
    "        if aVariable not in checkList:\n",
    "            print(\"Sorry, I said, are you ready to rumble? [Y/N]: \")\n",
    "            continue\n",
    "        \n",
    "        else:\n",
    "            if aVariable == 'Y':\n",
    "                print(\"Let's rumble!\")\n",
    "            else:\n",
    "                print(\"Another day then!\")\n",
    "\n",
    "            break\n",
    "    \n",
    "    return aVariable"
   ]
  },
  {
   "cell_type": "code",
   "execution_count": 19,
   "metadata": {},
   "outputs": [
    {
     "name": "stdout",
     "output_type": "stream",
     "text": [
      "Sorry, I said, are you ready to rumble? [Y/N]: \n",
      "Sorry, I said, are you ready to rumble? [Y/N]: \n",
      "Sorry, I said, are you ready to rumble? [Y/N]: \n",
      "Sorry, I said, are you ready to rumble? [Y/N]: \n",
      "Sorry, I said, are you ready to rumble? [Y/N]: \n",
      "Sorry, I said, are you ready to rumble? [Y/N]: \n",
      "Let's rumble!\n"
     ]
    },
    {
     "data": {
      "text/plain": [
       "'Y'"
      ]
     },
     "execution_count": 19,
     "metadata": {},
     "output_type": "execute_result"
    }
   ],
   "source": [
    "bVariable = somfunc()\n",
    "bVariable"
   ]
  },
  {
   "cell_type": "code",
   "execution_count": 21,
   "metadata": {},
   "outputs": [
    {
     "data": {
      "text/plain": [
       "True"
      ]
     },
     "execution_count": 21,
     "metadata": {},
     "output_type": "execute_result"
    }
   ],
   "source": [
    "inputType = \"p\"\n",
    "inputType not in [1, 0]"
   ]
  },
  {
   "cell_type": "code",
   "execution_count": 26,
   "metadata": {},
   "outputs": [
    {
     "data": {
      "text/plain": [
       "True"
      ]
     },
     "execution_count": 26,
     "metadata": {},
     "output_type": "execute_result"
    }
   ],
   "source": [
    "choiceList = []\n",
    "not choiceList"
   ]
  },
  {
   "cell_type": "code",
   "execution_count": 27,
   "metadata": {},
   "outputs": [],
   "source": [
    "employmentStatus = ''\n",
    "employmentStatusCheck = {'E': 'Employed', 'SE': 'Self-Employed', 'R': 'Retired', 'TD': 'Sole Trader/Proprietary Director', 'U': 'Unemployed'}"
   ]
  },
  {
   "cell_type": "code",
   "execution_count": 58,
   "metadata": {},
   "outputs": [],
   "source": [
    "def assignUserInputs(inputType,checkList=[]):\n",
    "    validInputType = [1,0]\n",
    "    \n",
    "    #Check if inputType is 1 or 0\n",
    "    while True:\n",
    "        try:\n",
    "            inputType = int(input(\"Please enter 1 (number input) or 0 (string input): \"))\n",
    "        except ValueError:\n",
    "            continue\n",
    "        \n",
    "        if inputType in validInputType:\n",
    "            break\n",
    "        else:\n",
    "            continue\n",
    "        \n",
    "    return inputType"
   ]
  },
  {
   "cell_type": "code",
   "execution_count": 59,
   "metadata": {},
   "outputs": [
    {
     "data": {
      "text/plain": [
       "1"
      ]
     },
     "execution_count": 59,
     "metadata": {},
     "output_type": "execute_result"
    }
   ],
   "source": [
    "assignUserInputs(2)\n"
   ]
  },
  {
   "cell_type": "code",
   "execution_count": null,
   "metadata": {},
   "outputs": [],
   "source": []
  }
 ],
 "metadata": {
  "interpreter": {
   "hash": "02d78c7446f8616c8c86cb8e01d4fb0a178c09cd6ad35fe295ff009781e7a125"
  },
  "kernelspec": {
   "display_name": "Python 3.8.8 ('base')",
   "language": "python",
   "name": "python3"
  },
  "language_info": {
   "codemirror_mode": {
    "name": "ipython",
    "version": 3
   },
   "file_extension": ".py",
   "mimetype": "text/x-python",
   "name": "python",
   "nbconvert_exporter": "python",
   "pygments_lexer": "ipython3",
   "version": "3.8.8"
  },
  "orig_nbformat": 4
 },
 "nbformat": 4,
 "nbformat_minor": 2
}
