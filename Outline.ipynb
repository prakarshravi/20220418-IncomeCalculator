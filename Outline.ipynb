{
 "cells": [
  {
   "cell_type": "markdown",
   "metadata": {},
   "source": [
    "# 2022 Income Calculator"
   ]
  },
  {
   "cell_type": "markdown",
   "metadata": {},
   "source": [
    "**Objective:** To create a calculator that determines various results such as cash in hand based on a number of factors such as tax brackets etc., after receiving gross income and interval as inputs.\n",
    "\n"
   ]
  },
  {
   "cell_type": "markdown",
   "metadata": {},
   "source": [
    "**Taxation Information Source:** [Personal tax credits, reliefs and exemptions](https://revenue.ie/en/personal-tax-credits-reliefs-and-exemptions/index.aspx)\n",
    "\n",
    "**Tax-exempt contributions (with limits)**\n",
    "- Revenue approved pension scheme\n",
    "- Revenue approved Permanent Health Benefit (Income Continuance) scheme\n",
    "- Salary Sacrifice Arrangement\n",
    "- Personal Retirement Savings Account (PRSA)\n",
    "- Retirement Annuity Contract (RAC).  \n",
    "*Source:* [Gross v/s Taxable Pay](https://revenue.ie/en/jobs-and-pensions/calculating-your-income-tax/difference-gross-taxable-pay.aspx)"
   ]
  },
  {
   "cell_type": "markdown",
   "metadata": {},
   "source": [
    "## Import relevant libraries"
   ]
  },
  {
   "cell_type": "markdown",
   "metadata": {},
   "source": [
    "I think that given this is a rather simple program, we can build this from scratch without requiring any libraries.\n",
    "\n",
    "At some later stage, if we feel the need to optimize it via libraries, then we can do so."
   ]
  },
  {
   "cell_type": "markdown",
   "metadata": {},
   "source": [
    "## Declare global variables and constraints"
   ]
  },
  {
   "cell_type": "markdown",
   "metadata": {},
   "source": [
    "There are some variables that will apply uniformly throughout the program. These will be added here as the program grows and adds more options/complexity."
   ]
  },
  {
   "cell_type": "markdown",
   "metadata": {},
   "source": [
    "### Personal circumstances related variables"
   ]
  },
  {
   "cell_type": "code",
   "execution_count": 6,
   "metadata": {},
   "outputs": [],
   "source": [
    "# Employment status determines a person's taxation structure. Possible values are E, SE, R, TD, U, based on key value pairs presented below.\n",
    "employmentStatus = '' # Shouldn't be case sensitive.\n",
    "# Check user input against possible options presented.\n",
    "employmentStatusCheck = {'E': 'Employed', 'SE': 'Self-Employed', 'R': 'Retired', 'TD': 'Sole Trader/Proprietary Director', 'U': 'Unemployed'} # To convert into Tkinter GUI dropdown menu later\n",
    "\n",
    "# Gross income - Since this calculator refers to Irish income taxation for 2022, we consider income as floating point variable, with currency as EUR.\n",
    "grossIncome = 0.0\n",
    "\n",
    "# Payment frequency determines how the calculations will proceed, and helps identify tax bands.\n",
    "# Possible values are {'H': 'Hourly', 'D': 'Daily', 'W': 'Weekly', 'F': 'Fortnightly', 'M': 'Monthly', 'A': 'Annually'}\n",
    "paymentFrequency = ''\n",
    "# Check user input against possible options presented.\n",
    "paymentFrequencyCheck = {'H': 'Hourly', 'D': 'Daily', 'W': 'Weekly', 'F': 'Fortnightly', 'M': 'Monthly', 'A': 'Annually'} # To convert into Tkinter GUI dropdown menu \n",
    "\n",
    "# Civil Status can be Single, Widowed, Married, and Civil Partnership\n",
    "civilStatus = ''\n",
    "\n",
    "# Dependents considers whether the person has children that they provide for financially.\n",
    "dependents = ''\n",
    "\n",
    "# Dual earner implies both partners in marriage or civil partnership have income streams, with Y or Yes as corresponding options, while N if only one partner has an income stream.\n",
    "dualEarners = ''\n",
    "\n",
    "# Age determines whether the person qualifies for age related credits, allowances and reliefs, as well as PRSA allowances. Normal range should be 16 - 110.\n",
    "age = 0\n",
    "\n",
    "# Add considerations for blind persons, guide dogs, dependents, and children for single persons.\n",
    "\n",
    "# Add considerations for Special Tax Rates (Withholding, Special Savings Account), and liability on deposit interest.\n",
    "\n",
    "# Add considerations for taxable deductions and pension contributions."
   ]
  },
  {
   "cell_type": "markdown",
   "metadata": {},
   "source": [
    "## **Version 1:** Calculate income after tax for sighted singletons with no dependents/children"
   ]
  },
  {
   "cell_type": "markdown",
   "metadata": {},
   "source": [
    "### Tax credits, allowances and reliefs related variables"
   ]
  },
  {
   "cell_type": "code",
   "execution_count": 4,
   "metadata": {},
   "outputs": [],
   "source": [
    "# Personal Credits\n",
    "singlePersonalCredits = 1700\n",
    "\n",
    "# Age Tax Credits Single\n",
    "singleAgeCredits = 245\n",
    "\n",
    "#PAYE Credits\n",
    "singlePAYECredits = 1700\n",
    "\n",
    "#Earned Income Credits related to trading income (not to be confused with passive/investment income), self-employed income and pay earned by proprietary directors.\n",
    "singleEarnedCredits = 1700\n",
    "\n",
    "# Add considerations for blind persons, guide dogs, dependents, and children for single persons.\n",
    "\n",
    "# Add considerations for Special Tax Rates (Withholding, Special Savings Account), and liability on deposit interest.\n",
    "\n",
    "# Add considerations for taxable deductions and pension contributions."
   ]
  },
  {
   "cell_type": "markdown",
   "metadata": {},
   "source": [
    "### Tax Rates"
   ]
  },
  {
   "cell_type": "code",
   "execution_count": 5,
   "metadata": {},
   "outputs": [],
   "source": [
    "# For 2022, tax rate is calculated at 20% for the first EUR 36,800 gross income, and the balance at 40%.\n",
    "\n",
    "lowerRateSingle = 0.2\n",
    "band1Single = 36800\n",
    "\n",
    "higherRateSingle = 0.4"
   ]
  },
  {
   "cell_type": "markdown",
   "metadata": {},
   "source": [
    "### USC, PRSI Rates"
   ]
  },
  {
   "cell_type": "markdown",
   "metadata": {},
   "source": [
    "### User Inputs"
   ]
  },
  {
   "cell_type": "markdown",
   "metadata": {},
   "source": [
    "We will use input validation with While Loops for now, but later on we can add Al Sweigart's pyintplus module to validate our users' inputs."
   ]
  },
  {
   "cell_type": "markdown",
   "metadata": {},
   "source": [
    "#### Function to assign user inputs."
   ]
  },
  {
   "cell_type": "markdown",
   "metadata": {},
   "source": [
    "We noticed repetitive statements in the input statements below, and so we have defined a function to assign user inputs.\n",
    "\n",
    "```\n",
    "employmentStatus = input(\"Please enter your employment status as initials from the following list:\\n\" + employmentStatusCheck + \"\\n\")\n",
    "\n",
    "while employmentStatus not in employmentStatusCheck.keys():\n",
    "    employmentStatus = input(\"Please enter initials from the options provided.\\n\" + employmentStatusCheck + \"\\n\")\n",
    "\n",
    "paymentFrequency = input(\"Please provide your payment frequency as initials from the following list:\\n\" + paymentFrequencyCheck + \"\\n\")\n",
    "\n",
    "while paymentFrequency not in paymentFrequencyCheck.keys():\n",
    "    employmentStatus = input(\"Please enter initials from the options provided.\\n\" + employmentStatusCheck + \"\\n\")\n",
    "\n",
    "```\n",
    "The above code pattern is repeating for all the input variable validations, hence providing the opportunity to reduce repetition by creating a function.  \n",
    "This function forks depending on whether the required input is a number (then it will use a try except statement),  or a string choice (it will use a while loop).  \n",
    "*This function also presents an example of incorporating f strings to improve readability and ease of writing code.*"
   ]
  },
  {
   "cell_type": "code",
   "execution_count": 21,
   "metadata": {},
   "outputs": [],
   "source": [
    "def assignUserInputs(inputVariable, inputType = 0, choiceList = []):\n",
    "    \n",
    "    # #Check inputType is valid\n",
    "    while inputType not in [1, 0]:\n",
    "        inputType = input(\"Please provide a valid input type.: \")\n",
    "    \n",
    "    #Check choiceList is not empty if inputType == 0\n",
    "    if inputType == 0 and not choiceList:\n",
    "        while choiceList:\n",
    "            choiceList = input(\"Please provide a non-empty list.: \")\n",
    "    \n",
    "    # When required input is a number\n",
    "    if inputType == 1:\n",
    "        if not choiceList:\n",
    "            try:\n",
    "                inputVariable = int(input(f\"Please enter your {inputVariable}: \"))\n",
    "            except TypeError:\n",
    "                inputVariable = int(input(\"Please enter a valid number: \"))\n",
    "        else:\n",
    "            inputVariable = input(f\"Please enter your choice for {inputVariable} from the following list:\\n{choiceList}: \")\n",
    "            while inputVariable not in choiceList:\n",
    "                inputVariable = input(f\"Please select {inputVariable} from the options provided.\\n: {choiceList}: \")\n",
    "                \n",
    "    \n",
    "    # When required input is a string choice\n",
    "    elif inputType == 0:\n",
    "        inputVariable = input(f\"Please enter your choice for {inputVariable} from the following list:\\n{choiceList}: \")\n",
    "        while inputVariable not in choiceList:\n",
    "            inputVariable = input(f\"Please select {inputVariable} from the options provided.\\n: {choiceList}: \")\n",
    "            \n",
    "    \n",
    "    return inputVariable"
   ]
  },
  {
   "cell_type": "markdown",
   "metadata": {},
   "source": []
  },
  {
   "cell_type": "code",
   "execution_count": 22,
   "metadata": {},
   "outputs": [
    {
     "ename": "KeyboardInterrupt",
     "evalue": "Interrupted by user",
     "output_type": "error",
     "traceback": [
      "\u001b[1;31m---------------------------------------------------------------------------\u001b[0m",
      "\u001b[1;31mKeyboardInterrupt\u001b[0m                         Traceback (most recent call last)",
      "\u001b[1;32m<ipython-input-22-0991d3dc07d6>\u001b[0m in \u001b[0;36m<module>\u001b[1;34m\u001b[0m\n\u001b[1;32m----> 1\u001b[1;33m \u001b[0memploymentStatus\u001b[0m \u001b[1;33m=\u001b[0m \u001b[0massignUserInputs\u001b[0m\u001b[1;33m(\u001b[0m\u001b[0memploymentStatus\u001b[0m\u001b[1;33m,\u001b[0m\u001b[1;36m2\u001b[0m\u001b[1;33m)\u001b[0m\u001b[1;33m\u001b[0m\u001b[1;33m\u001b[0m\u001b[0m\n\u001b[0m",
      "\u001b[1;32m<ipython-input-21-4452fd100fca>\u001b[0m in \u001b[0;36massignUserInputs\u001b[1;34m(inputVariable, inputType, choiceList)\u001b[0m\n\u001b[0;32m      3\u001b[0m     \u001b[1;31m# #Check inputType is valid\u001b[0m\u001b[1;33m\u001b[0m\u001b[1;33m\u001b[0m\u001b[1;33m\u001b[0m\u001b[0m\n\u001b[0;32m      4\u001b[0m     \u001b[1;32mwhile\u001b[0m \u001b[0minputType\u001b[0m \u001b[1;32mnot\u001b[0m \u001b[1;32min\u001b[0m \u001b[1;33m[\u001b[0m\u001b[1;36m1\u001b[0m\u001b[1;33m,\u001b[0m \u001b[1;36m0\u001b[0m\u001b[1;33m]\u001b[0m\u001b[1;33m:\u001b[0m\u001b[1;33m\u001b[0m\u001b[1;33m\u001b[0m\u001b[0m\n\u001b[1;32m----> 5\u001b[1;33m         \u001b[0minputType\u001b[0m \u001b[1;33m=\u001b[0m \u001b[0minput\u001b[0m\u001b[1;33m(\u001b[0m\u001b[1;34m\"Please provide a valid input type.: \"\u001b[0m\u001b[1;33m)\u001b[0m\u001b[1;33m\u001b[0m\u001b[1;33m\u001b[0m\u001b[0m\n\u001b[0m\u001b[0;32m      6\u001b[0m \u001b[1;33m\u001b[0m\u001b[0m\n\u001b[0;32m      7\u001b[0m     \u001b[1;31m#Check choiceList is not empty if inputType == 0\u001b[0m\u001b[1;33m\u001b[0m\u001b[1;33m\u001b[0m\u001b[1;33m\u001b[0m\u001b[0m\n",
      "\u001b[1;32m~\\anaconda3\\lib\\site-packages\\ipykernel\\kernelbase.py\u001b[0m in \u001b[0;36mraw_input\u001b[1;34m(self, prompt)\u001b[0m\n\u001b[0;32m    858\u001b[0m                 \u001b[1;34m\"raw_input was called, but this frontend does not support input requests.\"\u001b[0m\u001b[1;33m\u001b[0m\u001b[1;33m\u001b[0m\u001b[0m\n\u001b[0;32m    859\u001b[0m             )\n\u001b[1;32m--> 860\u001b[1;33m         return self._input_request(str(prompt),\n\u001b[0m\u001b[0;32m    861\u001b[0m             \u001b[0mself\u001b[0m\u001b[1;33m.\u001b[0m\u001b[0m_parent_ident\u001b[0m\u001b[1;33m,\u001b[0m\u001b[1;33m\u001b[0m\u001b[1;33m\u001b[0m\u001b[0m\n\u001b[0;32m    862\u001b[0m             \u001b[0mself\u001b[0m\u001b[1;33m.\u001b[0m\u001b[0m_parent_header\u001b[0m\u001b[1;33m,\u001b[0m\u001b[1;33m\u001b[0m\u001b[1;33m\u001b[0m\u001b[0m\n",
      "\u001b[1;32m~\\anaconda3\\lib\\site-packages\\ipykernel\\kernelbase.py\u001b[0m in \u001b[0;36m_input_request\u001b[1;34m(self, prompt, ident, parent, password)\u001b[0m\n\u001b[0;32m    902\u001b[0m             \u001b[1;32mexcept\u001b[0m \u001b[0mKeyboardInterrupt\u001b[0m\u001b[1;33m:\u001b[0m\u001b[1;33m\u001b[0m\u001b[1;33m\u001b[0m\u001b[0m\n\u001b[0;32m    903\u001b[0m                 \u001b[1;31m# re-raise KeyboardInterrupt, to truncate traceback\u001b[0m\u001b[1;33m\u001b[0m\u001b[1;33m\u001b[0m\u001b[1;33m\u001b[0m\u001b[0m\n\u001b[1;32m--> 904\u001b[1;33m                 \u001b[1;32mraise\u001b[0m \u001b[0mKeyboardInterrupt\u001b[0m\u001b[1;33m(\u001b[0m\u001b[1;34m\"Interrupted by user\"\u001b[0m\u001b[1;33m)\u001b[0m \u001b[1;32mfrom\u001b[0m \u001b[1;32mNone\u001b[0m\u001b[1;33m\u001b[0m\u001b[1;33m\u001b[0m\u001b[0m\n\u001b[0m\u001b[0;32m    905\u001b[0m             \u001b[1;32mexcept\u001b[0m \u001b[0mException\u001b[0m \u001b[1;32mas\u001b[0m \u001b[0me\u001b[0m\u001b[1;33m:\u001b[0m\u001b[1;33m\u001b[0m\u001b[1;33m\u001b[0m\u001b[0m\n\u001b[0;32m    906\u001b[0m                 \u001b[0mself\u001b[0m\u001b[1;33m.\u001b[0m\u001b[0mlog\u001b[0m\u001b[1;33m.\u001b[0m\u001b[0mwarning\u001b[0m\u001b[1;33m(\u001b[0m\u001b[1;34m\"Invalid Message:\"\u001b[0m\u001b[1;33m,\u001b[0m \u001b[0mexc_info\u001b[0m\u001b[1;33m=\u001b[0m\u001b[1;32mTrue\u001b[0m\u001b[1;33m)\u001b[0m\u001b[1;33m\u001b[0m\u001b[1;33m\u001b[0m\u001b[0m\n",
      "\u001b[1;31mKeyboardInterrupt\u001b[0m: Interrupted by user"
     ]
    }
   ],
   "source": [
    "employmentStatus = assignUserInputs(employmentStatus,2)"
   ]
  },
  {
   "cell_type": "code",
   "execution_count": null,
   "metadata": {},
   "outputs": [],
   "source": []
  }
 ],
 "metadata": {
  "interpreter": {
   "hash": "02d78c7446f8616c8c86cb8e01d4fb0a178c09cd6ad35fe295ff009781e7a125"
  },
  "kernelspec": {
   "display_name": "Python 3.8.8 ('base')",
   "language": "python",
   "name": "python3"
  },
  "language_info": {
   "codemirror_mode": {
    "name": "ipython",
    "version": 3
   },
   "file_extension": ".py",
   "mimetype": "text/x-python",
   "name": "python",
   "nbconvert_exporter": "python",
   "pygments_lexer": "ipython3",
   "version": "3.8.8"
  },
  "orig_nbformat": 4
 },
 "nbformat": 4,
 "nbformat_minor": 2
}
